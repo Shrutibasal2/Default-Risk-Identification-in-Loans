{
 "cells": [
  {
   "cell_type": "markdown",
   "id": "6ab48255",
   "metadata": {},
   "source": [
    "<table align=\"center\" width=100%>\n",
    "    <tr>\n",
    "        <td width=\"20%\">\n",
    "        </td>\n",
    "        <td>\n",
    "            <div align=\"center\">\n",
    "                <font color=\"#21618C\" size=8px>\n",
    "                    <b> Default Risk Identification In Loans <br>\n",
    "                    </b>\n",
    "                </font>\n",
    "            </div>\n",
    "        </td>\n",
    "        <td width=\"25%\">\n",
    "        </td>\n",
    "    </tr>\n",
    "</table>"
   ]
  },
  {
   "cell_type": "markdown",
   "id": "7cf50013",
   "metadata": {},
   "source": [
    "###### Introduction to problem statement - Loans dataset aims to identify variables which indicate if a person is likely to default, which can be used for identifying the risky loan applicants to avoid any financial loss to the company."
   ]
  },
  {
   "cell_type": "markdown",
   "id": "9abbdbaa",
   "metadata": {},
   "source": [
    "<table align=\"left\" width=50%>\n",
    "    <tr>\n",
    "        <td width=\"5%\">\n",
    "        </td>\n",
    "        <td>\n",
    "            <div align=\"left\">\n",
    "                <font color=\"#21618C\" size=5px>\n",
    "                    <b>About the dataset <br>\n",
    "                    </b>\n",
    "                </font>\n",
    "            </div>\n",
    "        </td>\n",
    "        <td width=\"5%\">\n",
    "        </td>\n",
    "    </tr>\n",
    "</table>"
   ]
  },
  {
   "cell_type": "markdown",
   "id": "0fefb057",
   "metadata": {},
   "source": [
    "1.annual_inc - The self-reported annual income provided by the borrower\n",
    "during registration.\n",
    "\n",
    "2.dti - A ratio calculated using the borrower’s total monthly debt payments on\n",
    "the total debt obligations, excluding mortgage and the requested LC loan,\n",
    "divided by the borrower’s self-reported monthly income.\n",
    "\n",
    "3.emp_length -Employment length in years. Possible values are between 0 and\n",
    "10 where 0 means less than one year and 10 means ten or more years.\n",
    "\n",
    "4.funded_amnt - The total amount committed to that loan at that point in\n",
    "time.\n",
    "\n",
    "5.funded_amnt_inv -The total amount committed by investors for that loan at\n",
    "that point in time. 233 \n",
    "\n",
    "6.grade - LC assigned loan grade\n",
    "\n",
    "7.id - A unique LC assigned ID for the loan listing.\n",
    "\n",
    "8.installment - The monthly payment owed by the borrower if the loan\n",
    "originates.\n",
    "\n",
    "9.int_rate - Interest Rate on the loan\n",
    "\n",
    "10.last_pymnt_amnt-Last total payment amount received\n",
    "\n",
    "11.last_pymnt_d -Last month payment was received\n",
    "\n",
    "12.loan_amnt -The listed amount of the loan applied for by the borrower. If at\n",
    "some point in time, the credit department reduces the loan amount, then it\n",
    "will be reflected in this value.\n",
    "\n",
    "13.loan_status - Current status of the loan\n",
    "\n",
    "14.member_id -A unique LC assigned Id for the borrower member.\n",
    "\n",
    "15.purpose - A category provided by the borrower for the loan request.\n",
    "\n",
    "16.term -The number of payments on the loan. Values are in months and can\n",
    "be either 36 or 60.\n",
    "\n",
    "17.total_acc -The total number of credit lines currently in the borrower's credit\n",
    "file\n",
    "\n",
    "18.total_pymnt -Payments received to date for total amount funded\n",
    "\n",
    "19.total_pymnt_inv -Payments received to date for portion of total amount\n",
    "funded by investors\n",
    "\n",
    "20.total_rec_int -Interest received to date"
   ]
  },
  {
   "cell_type": "markdown",
   "id": "1cb8a760",
   "metadata": {},
   "source": [
    "#### Importing necessary libraries"
   ]
  },
  {
   "cell_type": "code",
   "execution_count": 1,
   "id": "b749585b",
   "metadata": {},
   "outputs": [],
   "source": [
    "# Import the NumPy library and alias it as np\n",
    "import numpy as np\n",
    "\n",
    "# Import the Pandas library and alias it as pd\n",
    "import pandas as pd\n",
    "\n",
    "# Import the Pyplot module from the Matplotlib library and alias it as plt\n",
    "import matplotlib.pyplot as plt\n",
    "\n",
    "# Import the Seaborn library and alias it as sns\n",
    "import seaborn as sns"
   ]
  },
  {
   "cell_type": "markdown",
   "id": "60bd7368",
   "metadata": {},
   "source": [
    "####  Importing the dataset"
   ]
  },
  {
   "cell_type": "code",
   "execution_count": 2,
   "id": "ab90e148",
   "metadata": {},
   "outputs": [
    {
     "data": {
      "text/html": [
       "<div>\n",
       "<style scoped>\n",
       "    .dataframe tbody tr th:only-of-type {\n",
       "        vertical-align: middle;\n",
       "    }\n",
       "\n",
       "    .dataframe tbody tr th {\n",
       "        vertical-align: top;\n",
       "    }\n",
       "\n",
       "    .dataframe thead th {\n",
       "        text-align: right;\n",
       "    }\n",
       "</style>\n",
       "<table border=\"1\" class=\"dataframe\">\n",
       "  <thead>\n",
       "    <tr style=\"text-align: right;\">\n",
       "      <th></th>\n",
       "      <th>id</th>\n",
       "      <th>member_id</th>\n",
       "      <th>loan_amnt</th>\n",
       "      <th>funded_amnt</th>\n",
       "      <th>funded_amnt_inv</th>\n",
       "      <th>term</th>\n",
       "      <th>int_rate</th>\n",
       "      <th>installment</th>\n",
       "      <th>grade</th>\n",
       "      <th>emp_length</th>\n",
       "      <th>...</th>\n",
       "      <th>purpose</th>\n",
       "      <th>dti</th>\n",
       "      <th>total_pymnt</th>\n",
       "      <th>total_pymnt_inv</th>\n",
       "      <th>total_rec_prncp</th>\n",
       "      <th>total_rec_int</th>\n",
       "      <th>last_pymnt_d</th>\n",
       "      <th>last_pymnt_amnt</th>\n",
       "      <th>Unnamed: 21</th>\n",
       "      <th>Unnamed: 22</th>\n",
       "    </tr>\n",
       "  </thead>\n",
       "  <tbody>\n",
       "    <tr>\n",
       "      <th>0</th>\n",
       "      <td>1077501</td>\n",
       "      <td>1296599</td>\n",
       "      <td>5000</td>\n",
       "      <td>5000</td>\n",
       "      <td>4975.0</td>\n",
       "      <td>36 months</td>\n",
       "      <td>10.65%</td>\n",
       "      <td>162.87</td>\n",
       "      <td>B</td>\n",
       "      <td>10+ years</td>\n",
       "      <td>...</td>\n",
       "      <td>credit_card</td>\n",
       "      <td>27.65</td>\n",
       "      <td>5863.155187</td>\n",
       "      <td>5833.84</td>\n",
       "      <td>5000.00</td>\n",
       "      <td>863.16</td>\n",
       "      <td>Jan-15</td>\n",
       "      <td>171.62</td>\n",
       "      <td>NaN</td>\n",
       "      <td>NaN</td>\n",
       "    </tr>\n",
       "    <tr>\n",
       "      <th>1</th>\n",
       "      <td>1077430</td>\n",
       "      <td>1314167</td>\n",
       "      <td>2500</td>\n",
       "      <td>2500</td>\n",
       "      <td>2500.0</td>\n",
       "      <td>60 months</td>\n",
       "      <td>15.27%</td>\n",
       "      <td>59.83</td>\n",
       "      <td>C</td>\n",
       "      <td>&lt; 1 year</td>\n",
       "      <td>...</td>\n",
       "      <td>car</td>\n",
       "      <td>1.00</td>\n",
       "      <td>1008.710000</td>\n",
       "      <td>1008.71</td>\n",
       "      <td>456.46</td>\n",
       "      <td>435.17</td>\n",
       "      <td>Apr-13</td>\n",
       "      <td>119.66</td>\n",
       "      <td>NaN</td>\n",
       "      <td>NaN</td>\n",
       "    </tr>\n",
       "    <tr>\n",
       "      <th>2</th>\n",
       "      <td>1077175</td>\n",
       "      <td>1313524</td>\n",
       "      <td>2400</td>\n",
       "      <td>2400</td>\n",
       "      <td>2400.0</td>\n",
       "      <td>36 months</td>\n",
       "      <td>15.96%</td>\n",
       "      <td>84.33</td>\n",
       "      <td>C</td>\n",
       "      <td>10+ years</td>\n",
       "      <td>...</td>\n",
       "      <td>small_business</td>\n",
       "      <td>8.72</td>\n",
       "      <td>3005.666844</td>\n",
       "      <td>3005.67</td>\n",
       "      <td>2400.00</td>\n",
       "      <td>605.67</td>\n",
       "      <td>Jun-14</td>\n",
       "      <td>649.91</td>\n",
       "      <td>NaN</td>\n",
       "      <td>NaN</td>\n",
       "    </tr>\n",
       "    <tr>\n",
       "      <th>3</th>\n",
       "      <td>1076863</td>\n",
       "      <td>1277178</td>\n",
       "      <td>10000</td>\n",
       "      <td>10000</td>\n",
       "      <td>10000.0</td>\n",
       "      <td>36 months</td>\n",
       "      <td>13.49%</td>\n",
       "      <td>339.31</td>\n",
       "      <td>C</td>\n",
       "      <td>10+ years</td>\n",
       "      <td>...</td>\n",
       "      <td>other</td>\n",
       "      <td>20.00</td>\n",
       "      <td>12231.890000</td>\n",
       "      <td>12231.89</td>\n",
       "      <td>10000.00</td>\n",
       "      <td>2214.92</td>\n",
       "      <td>Jan-15</td>\n",
       "      <td>357.48</td>\n",
       "      <td>NaN</td>\n",
       "      <td>NaN</td>\n",
       "    </tr>\n",
       "    <tr>\n",
       "      <th>4</th>\n",
       "      <td>1075358</td>\n",
       "      <td>1311748</td>\n",
       "      <td>3000</td>\n",
       "      <td>3000</td>\n",
       "      <td>3000.0</td>\n",
       "      <td>60 months</td>\n",
       "      <td>12.69%</td>\n",
       "      <td>67.79</td>\n",
       "      <td>B</td>\n",
       "      <td>1 year</td>\n",
       "      <td>...</td>\n",
       "      <td>other</td>\n",
       "      <td>17.94</td>\n",
       "      <td>3513.330000</td>\n",
       "      <td>3513.33</td>\n",
       "      <td>2475.94</td>\n",
       "      <td>1037.39</td>\n",
       "      <td>May-16</td>\n",
       "      <td>67.79</td>\n",
       "      <td>NaN</td>\n",
       "      <td>NaN</td>\n",
       "    </tr>\n",
       "    <tr>\n",
       "      <th>...</th>\n",
       "      <td>...</td>\n",
       "      <td>...</td>\n",
       "      <td>...</td>\n",
       "      <td>...</td>\n",
       "      <td>...</td>\n",
       "      <td>...</td>\n",
       "      <td>...</td>\n",
       "      <td>...</td>\n",
       "      <td>...</td>\n",
       "      <td>...</td>\n",
       "      <td>...</td>\n",
       "      <td>...</td>\n",
       "      <td>...</td>\n",
       "      <td>...</td>\n",
       "      <td>...</td>\n",
       "      <td>...</td>\n",
       "      <td>...</td>\n",
       "      <td>...</td>\n",
       "      <td>...</td>\n",
       "      <td>...</td>\n",
       "      <td>...</td>\n",
       "    </tr>\n",
       "    <tr>\n",
       "      <th>39712</th>\n",
       "      <td>92187</td>\n",
       "      <td>92174</td>\n",
       "      <td>2500</td>\n",
       "      <td>2500</td>\n",
       "      <td>1075.0</td>\n",
       "      <td>36 months</td>\n",
       "      <td>8.07%</td>\n",
       "      <td>78.42</td>\n",
       "      <td>A</td>\n",
       "      <td>4 years</td>\n",
       "      <td>...</td>\n",
       "      <td>home_improvement</td>\n",
       "      <td>11.33</td>\n",
       "      <td>2822.969293</td>\n",
       "      <td>1213.88</td>\n",
       "      <td>2500.00</td>\n",
       "      <td>322.97</td>\n",
       "      <td>Jul-10</td>\n",
       "      <td>80.90</td>\n",
       "      <td>NaN</td>\n",
       "      <td>NaN</td>\n",
       "    </tr>\n",
       "    <tr>\n",
       "      <th>39713</th>\n",
       "      <td>90665</td>\n",
       "      <td>90607</td>\n",
       "      <td>8500</td>\n",
       "      <td>8500</td>\n",
       "      <td>875.0</td>\n",
       "      <td>36 months</td>\n",
       "      <td>10.28%</td>\n",
       "      <td>275.38</td>\n",
       "      <td>C</td>\n",
       "      <td>3 years</td>\n",
       "      <td>...</td>\n",
       "      <td>credit_card</td>\n",
       "      <td>6.40</td>\n",
       "      <td>9913.491822</td>\n",
       "      <td>1020.51</td>\n",
       "      <td>8500.00</td>\n",
       "      <td>1413.49</td>\n",
       "      <td>Jul-10</td>\n",
       "      <td>281.94</td>\n",
       "      <td>NaN</td>\n",
       "      <td>NaN</td>\n",
       "    </tr>\n",
       "    <tr>\n",
       "      <th>39714</th>\n",
       "      <td>90395</td>\n",
       "      <td>90390</td>\n",
       "      <td>5000</td>\n",
       "      <td>5000</td>\n",
       "      <td>1325.0</td>\n",
       "      <td>36 months</td>\n",
       "      <td>8.07%</td>\n",
       "      <td>156.84</td>\n",
       "      <td>A</td>\n",
       "      <td>&lt; 1 year</td>\n",
       "      <td>...</td>\n",
       "      <td>debt_consolidation</td>\n",
       "      <td>2.30</td>\n",
       "      <td>5272.161128</td>\n",
       "      <td>1397.12</td>\n",
       "      <td>5000.00</td>\n",
       "      <td>272.16</td>\n",
       "      <td>Apr-08</td>\n",
       "      <td>0.00</td>\n",
       "      <td>NaN</td>\n",
       "      <td>NaN</td>\n",
       "    </tr>\n",
       "    <tr>\n",
       "      <th>39715</th>\n",
       "      <td>90376</td>\n",
       "      <td>89243</td>\n",
       "      <td>5000</td>\n",
       "      <td>5000</td>\n",
       "      <td>650.0</td>\n",
       "      <td>36 months</td>\n",
       "      <td>7.43%</td>\n",
       "      <td>155.38</td>\n",
       "      <td>A</td>\n",
       "      <td>&lt; 1 year</td>\n",
       "      <td>...</td>\n",
       "      <td>other</td>\n",
       "      <td>3.72</td>\n",
       "      <td>5174.198551</td>\n",
       "      <td>672.66</td>\n",
       "      <td>5000.00</td>\n",
       "      <td>174.20</td>\n",
       "      <td>Jan-08</td>\n",
       "      <td>0.00</td>\n",
       "      <td>NaN</td>\n",
       "      <td>NaN</td>\n",
       "    </tr>\n",
       "    <tr>\n",
       "      <th>39716</th>\n",
       "      <td>87023</td>\n",
       "      <td>86999</td>\n",
       "      <td>7500</td>\n",
       "      <td>7500</td>\n",
       "      <td>800.0</td>\n",
       "      <td>36 months</td>\n",
       "      <td>13.75%</td>\n",
       "      <td>255.43</td>\n",
       "      <td>E</td>\n",
       "      <td>&lt; 1 year</td>\n",
       "      <td>...</td>\n",
       "      <td>debt_consolidation</td>\n",
       "      <td>14.29</td>\n",
       "      <td>9195.263334</td>\n",
       "      <td>980.83</td>\n",
       "      <td>7500.00</td>\n",
       "      <td>1695.26</td>\n",
       "      <td>Jun-10</td>\n",
       "      <td>256.59</td>\n",
       "      <td>NaN</td>\n",
       "      <td>NaN</td>\n",
       "    </tr>\n",
       "  </tbody>\n",
       "</table>\n",
       "<p>39717 rows × 23 columns</p>\n",
       "</div>"
      ],
      "text/plain": [
       "            id  member_id  loan_amnt  funded_amnt  funded_amnt_inv  \\\n",
       "0      1077501    1296599       5000         5000           4975.0   \n",
       "1      1077430    1314167       2500         2500           2500.0   \n",
       "2      1077175    1313524       2400         2400           2400.0   \n",
       "3      1076863    1277178      10000        10000          10000.0   \n",
       "4      1075358    1311748       3000         3000           3000.0   \n",
       "...        ...        ...        ...          ...              ...   \n",
       "39712    92187      92174       2500         2500           1075.0   \n",
       "39713    90665      90607       8500         8500            875.0   \n",
       "39714    90395      90390       5000         5000           1325.0   \n",
       "39715    90376      89243       5000         5000            650.0   \n",
       "39716    87023      86999       7500         7500            800.0   \n",
       "\n",
       "             term int_rate  installment grade emp_length  ...  \\\n",
       "0       36 months   10.65%       162.87     B  10+ years  ...   \n",
       "1       60 months   15.27%        59.83     C   < 1 year  ...   \n",
       "2       36 months   15.96%        84.33     C  10+ years  ...   \n",
       "3       36 months   13.49%       339.31     C  10+ years  ...   \n",
       "4       60 months   12.69%        67.79     B     1 year  ...   \n",
       "...           ...      ...          ...   ...        ...  ...   \n",
       "39712   36 months    8.07%        78.42     A    4 years  ...   \n",
       "39713   36 months   10.28%       275.38     C    3 years  ...   \n",
       "39714   36 months    8.07%       156.84     A   < 1 year  ...   \n",
       "39715   36 months    7.43%       155.38     A   < 1 year  ...   \n",
       "39716   36 months   13.75%       255.43     E   < 1 year  ...   \n",
       "\n",
       "                  purpose    dti   total_pymnt total_pymnt_inv  \\\n",
       "0             credit_card  27.65   5863.155187         5833.84   \n",
       "1                     car   1.00   1008.710000         1008.71   \n",
       "2          small_business   8.72   3005.666844         3005.67   \n",
       "3                   other  20.00  12231.890000        12231.89   \n",
       "4                   other  17.94   3513.330000         3513.33   \n",
       "...                   ...    ...           ...             ...   \n",
       "39712    home_improvement  11.33   2822.969293         1213.88   \n",
       "39713         credit_card   6.40   9913.491822         1020.51   \n",
       "39714  debt_consolidation   2.30   5272.161128         1397.12   \n",
       "39715               other   3.72   5174.198551          672.66   \n",
       "39716  debt_consolidation  14.29   9195.263334          980.83   \n",
       "\n",
       "       total_rec_prncp  total_rec_int  last_pymnt_d  last_pymnt_amnt  \\\n",
       "0              5000.00         863.16        Jan-15           171.62   \n",
       "1               456.46         435.17        Apr-13           119.66   \n",
       "2              2400.00         605.67        Jun-14           649.91   \n",
       "3             10000.00        2214.92        Jan-15           357.48   \n",
       "4              2475.94        1037.39        May-16            67.79   \n",
       "...                ...            ...           ...              ...   \n",
       "39712          2500.00         322.97        Jul-10            80.90   \n",
       "39713          8500.00        1413.49        Jul-10           281.94   \n",
       "39714          5000.00         272.16        Apr-08             0.00   \n",
       "39715          5000.00         174.20        Jan-08             0.00   \n",
       "39716          7500.00        1695.26        Jun-10           256.59   \n",
       "\n",
       "       Unnamed: 21 Unnamed: 22  \n",
       "0              NaN         NaN  \n",
       "1              NaN         NaN  \n",
       "2              NaN         NaN  \n",
       "3              NaN         NaN  \n",
       "4              NaN         NaN  \n",
       "...            ...         ...  \n",
       "39712          NaN         NaN  \n",
       "39713          NaN         NaN  \n",
       "39714          NaN         NaN  \n",
       "39715          NaN         NaN  \n",
       "39716          NaN         NaN  \n",
       "\n",
       "[39717 rows x 23 columns]"
      ]
     },
     "execution_count": 2,
     "metadata": {},
     "output_type": "execute_result"
    }
   ],
   "source": [
    "#Here we import the loan dataset through read_csv function of pandas and name it as df\n",
    "df=pd.read_csv(\"loan.csv\")\n",
    "df"
   ]
  },
  {
   "cell_type": "markdown",
   "id": "b967dbab",
   "metadata": {},
   "source": [
    " #### The number of rows and columns."
   ]
  },
  {
   "cell_type": "code",
   "execution_count": 3,
   "id": "7c19faff",
   "metadata": {},
   "outputs": [
    {
     "name": "stdout",
     "output_type": "stream",
     "text": [
      "Number of Rows : 39717\n",
      "Number of columns : 23\n"
     ]
    }
   ],
   "source": [
    "# Print the number of rows in the DataFrame\n",
    "print('Number of Rows :', df.shape[0])\n",
    "\n",
    "# Print the number of columns in the DataFrame\n",
    "print('Number of columns :', df.shape[1])"
   ]
  },
  {
   "cell_type": "markdown",
   "id": "137978ed",
   "metadata": {},
   "source": [
    "#### Basic information about dataset"
   ]
  },
  {
   "cell_type": "code",
   "execution_count": 4,
   "id": "275b1164",
   "metadata": {},
   "outputs": [
    {
     "name": "stdout",
     "output_type": "stream",
     "text": [
      "<class 'pandas.core.frame.DataFrame'>\n",
      "RangeIndex: 39717 entries, 0 to 39716\n",
      "Data columns (total 23 columns):\n",
      " #   Column               Non-Null Count  Dtype  \n",
      "---  ------               --------------  -----  \n",
      " 0   id                   39717 non-null  int64  \n",
      " 1   member_id            39717 non-null  int64  \n",
      " 2   loan_amnt            39717 non-null  int64  \n",
      " 3   funded_amnt          39717 non-null  int64  \n",
      " 4   funded_amnt_inv      39717 non-null  float64\n",
      " 5   term                 39717 non-null  object \n",
      " 6   int_rate             39717 non-null  object \n",
      " 7   installment          39717 non-null  float64\n",
      " 8   grade                39717 non-null  object \n",
      " 9   emp_length           38642 non-null  object \n",
      " 10  annual_inc           39717 non-null  float64\n",
      " 11  verification_status  39717 non-null  object \n",
      " 12  loan_status          39717 non-null  object \n",
      " 13  purpose              39717 non-null  object \n",
      " 14  dti                  39717 non-null  float64\n",
      " 15  total_pymnt          39717 non-null  float64\n",
      " 16  total_pymnt_inv      39717 non-null  float64\n",
      " 17  total_rec_prncp      39717 non-null  float64\n",
      " 18  total_rec_int        39717 non-null  float64\n",
      " 19  last_pymnt_d         39646 non-null  object \n",
      " 20  last_pymnt_amnt      39717 non-null  float64\n",
      " 21  Unnamed: 21          0 non-null      float64\n",
      " 22  Unnamed: 22          0 non-null      float64\n",
      "dtypes: float64(11), int64(4), object(8)\n",
      "memory usage: 7.0+ MB\n"
     ]
    }
   ],
   "source": [
    "df.info()"
   ]
  },
  {
   "cell_type": "markdown",
   "id": "a13ce022",
   "metadata": {},
   "source": [
    "### Cleaning the dataset- Remove the columns having complete NaN value in the entire dataset."
   ]
  },
  {
   "cell_type": "code",
   "execution_count": 5,
   "id": "6326026a",
   "metadata": {},
   "outputs": [
    {
     "data": {
      "text/plain": [
       "id                         0\n",
       "member_id                  0\n",
       "loan_amnt                  0\n",
       "funded_amnt                0\n",
       "funded_amnt_inv            0\n",
       "term                       0\n",
       "int_rate                   0\n",
       "installment                0\n",
       "grade                      0\n",
       "emp_length              1075\n",
       "annual_inc                 0\n",
       "verification_status        0\n",
       "loan_status                0\n",
       "purpose                    0\n",
       "dti                        0\n",
       "total_pymnt                0\n",
       "total_pymnt_inv            0\n",
       "total_rec_prncp            0\n",
       "total_rec_int              0\n",
       "last_pymnt_d              71\n",
       "last_pymnt_amnt            0\n",
       "Unnamed: 21            39717\n",
       "Unnamed: 22            39717\n",
       "dtype: int64"
      ]
     },
     "execution_count": 5,
     "metadata": {},
     "output_type": "execute_result"
    }
   ],
   "source": [
    "# Check the number of missing values in each column of the df1 DataFrame\n",
    "df.isnull().sum()"
   ]
  },
  {
   "cell_type": "code",
   "execution_count": 6,
   "id": "a86a1315",
   "metadata": {},
   "outputs": [],
   "source": [
    "#Unnamed: 21,Unnamed: 22 Have all the null values so,we can drop them."
   ]
  },
  {
   "cell_type": "code",
   "execution_count": 7,
   "id": "305953b3",
   "metadata": {},
   "outputs": [],
   "source": [
    "# Drop the 'Unnamed: 21' and 'Unnamed: 22' columns from the df1 DataFrame\n",
    "# Note: the drop() method is used with the axis=1 argument to specify that the columns (not rows) should be dropped\n",
    "\n",
    "df = df.drop(['Unnamed: 21','Unnamed: 22'], axis=1)"
   ]
  },
  {
   "cell_type": "markdown",
   "id": "cb51b10d",
   "metadata": {},
   "source": [
    "#### ‘Int_rate’ column is character type. With the help of lambda function convert into float type."
   ]
  },
  {
   "cell_type": "code",
   "execution_count": 8,
   "id": "135bf047",
   "metadata": {},
   "outputs": [],
   "source": [
    "# Remove the '%' character from the 'int_rate' column of the df1 DataFrame\n",
    "# Note: the str.rstrip() function removes whitespace (including '%' characters) from the right side of each string\n",
    "\n",
    "df['int_rate'] = df['int_rate'].str.rstrip('%')"
   ]
  },
  {
   "cell_type": "code",
   "execution_count": 9,
   "id": "2bd26c75",
   "metadata": {},
   "outputs": [],
   "source": [
    "# Convert the 'int_rate' column of the df1 DataFrame from strings to floats using lambda function.\n",
    "\n",
    "df['int_rate'] = df['int_rate'].map(lambda x: float(x))"
   ]
  },
  {
   "cell_type": "markdown",
   "id": "c3520841",
   "metadata": {},
   "source": [
    "### finding the value counts of the ‘loan_status’ category column and filter only the ‘fully paid’ and ‘charged off’ categories."
   ]
  },
  {
   "cell_type": "code",
   "execution_count": 10,
   "id": "aa8411f9",
   "metadata": {},
   "outputs": [
    {
     "data": {
      "text/plain": [
       "Fully Paid     32950\n",
       "Charged Off     5627\n",
       "Current         1140\n",
       "Name: loan_status, dtype: int64"
      ]
     },
     "execution_count": 10,
     "metadata": {},
     "output_type": "execute_result"
    }
   ],
   "source": [
    "# Count the number of occurrences of each unique value in the 'loan_status' column of the df1 DataFrame\n",
    "\n",
    "df['loan_status'].value_counts()"
   ]
  },
  {
   "cell_type": "code",
   "execution_count": 11,
   "id": "955cdd59",
   "metadata": {},
   "outputs": [
    {
     "data": {
      "text/plain": [
       "0         Fully Paid\n",
       "1        Charged Off\n",
       "2         Fully Paid\n",
       "3         Fully Paid\n",
       "5         Fully Paid\n",
       "            ...     \n",
       "39712     Fully Paid\n",
       "39713     Fully Paid\n",
       "39714     Fully Paid\n",
       "39715     Fully Paid\n",
       "39716     Fully Paid\n",
       "Name: loan_status, Length: 38577, dtype: object"
      ]
     },
     "execution_count": 11,
     "metadata": {},
     "output_type": "execute_result"
    }
   ],
   "source": [
    "# Filter the 'loan_status' column of the df1 DataFrame to include only rows with 'Fully Paid' or 'Charged Off' status\n",
    "\n",
    "df['loan_status'][(df['loan_status']=='Fully Paid') | (df['loan_status']=='Charged Off')]"
   ]
  },
  {
   "cell_type": "markdown",
   "id": "383a295d",
   "metadata": {},
   "source": [
    "##### 7. Filter the ‘Emp_Len’ column to extract the numerical value from the string. \n",
    "Hint - Emp_len : < 1year, 2 years , 3 years as 1 , 2, 3 so on."
   ]
  },
  {
   "cell_type": "code",
   "execution_count": 12,
   "id": "16bb94e0",
   "metadata": {},
   "outputs": [
    {
     "data": {
      "text/html": [
       "<div>\n",
       "<style scoped>\n",
       "    .dataframe tbody tr th:only-of-type {\n",
       "        vertical-align: middle;\n",
       "    }\n",
       "\n",
       "    .dataframe tbody tr th {\n",
       "        vertical-align: top;\n",
       "    }\n",
       "\n",
       "    .dataframe thead th {\n",
       "        text-align: right;\n",
       "    }\n",
       "</style>\n",
       "<table border=\"1\" class=\"dataframe\">\n",
       "  <thead>\n",
       "    <tr style=\"text-align: right;\">\n",
       "      <th></th>\n",
       "      <th>0</th>\n",
       "    </tr>\n",
       "  </thead>\n",
       "  <tbody>\n",
       "    <tr>\n",
       "      <th>0</th>\n",
       "      <td>10</td>\n",
       "    </tr>\n",
       "    <tr>\n",
       "      <th>1</th>\n",
       "      <td>1</td>\n",
       "    </tr>\n",
       "    <tr>\n",
       "      <th>2</th>\n",
       "      <td>10</td>\n",
       "    </tr>\n",
       "    <tr>\n",
       "      <th>3</th>\n",
       "      <td>10</td>\n",
       "    </tr>\n",
       "    <tr>\n",
       "      <th>4</th>\n",
       "      <td>1</td>\n",
       "    </tr>\n",
       "    <tr>\n",
       "      <th>...</th>\n",
       "      <td>...</td>\n",
       "    </tr>\n",
       "    <tr>\n",
       "      <th>39712</th>\n",
       "      <td>4</td>\n",
       "    </tr>\n",
       "    <tr>\n",
       "      <th>39713</th>\n",
       "      <td>3</td>\n",
       "    </tr>\n",
       "    <tr>\n",
       "      <th>39714</th>\n",
       "      <td>1</td>\n",
       "    </tr>\n",
       "    <tr>\n",
       "      <th>39715</th>\n",
       "      <td>1</td>\n",
       "    </tr>\n",
       "    <tr>\n",
       "      <th>39716</th>\n",
       "      <td>1</td>\n",
       "    </tr>\n",
       "  </tbody>\n",
       "</table>\n",
       "<p>39717 rows × 1 columns</p>\n",
       "</div>"
      ],
      "text/plain": [
       "        0\n",
       "0      10\n",
       "1       1\n",
       "2      10\n",
       "3      10\n",
       "4       1\n",
       "...    ..\n",
       "39712   4\n",
       "39713   3\n",
       "39714   1\n",
       "39715   1\n",
       "39716   1\n",
       "\n",
       "[39717 rows x 1 columns]"
      ]
     },
     "execution_count": 12,
     "metadata": {},
     "output_type": "execute_result"
    }
   ],
   "source": [
    "# Extract the numerical part of the strings in the 'emp_length' column of the df1 DataFrame\n",
    "\n",
    "df['emp_length'].str.extract('(\\d+)') "
   ]
  },
  {
   "cell_type": "markdown",
   "id": "6b0c01bc",
   "metadata": {},
   "source": [
    "####  Using the Lambda function, remove the month from the ‘term’ column such that ‘36 months’, ‘60 months’ appear as 36 and 60 respectively."
   ]
  },
  {
   "cell_type": "code",
   "execution_count": 13,
   "id": "3f895063",
   "metadata": {},
   "outputs": [
    {
     "data": {
      "text/html": [
       "<div>\n",
       "<style scoped>\n",
       "    .dataframe tbody tr th:only-of-type {\n",
       "        vertical-align: middle;\n",
       "    }\n",
       "\n",
       "    .dataframe tbody tr th {\n",
       "        vertical-align: top;\n",
       "    }\n",
       "\n",
       "    .dataframe thead th {\n",
       "        text-align: right;\n",
       "    }\n",
       "</style>\n",
       "<table border=\"1\" class=\"dataframe\">\n",
       "  <thead>\n",
       "    <tr style=\"text-align: right;\">\n",
       "      <th></th>\n",
       "      <th>term</th>\n",
       "    </tr>\n",
       "  </thead>\n",
       "  <tbody>\n",
       "    <tr>\n",
       "      <th>0</th>\n",
       "      <td>36</td>\n",
       "    </tr>\n",
       "    <tr>\n",
       "      <th>1</th>\n",
       "      <td>60</td>\n",
       "    </tr>\n",
       "    <tr>\n",
       "      <th>2</th>\n",
       "      <td>36</td>\n",
       "    </tr>\n",
       "    <tr>\n",
       "      <th>3</th>\n",
       "      <td>36</td>\n",
       "    </tr>\n",
       "    <tr>\n",
       "      <th>4</th>\n",
       "      <td>60</td>\n",
       "    </tr>\n",
       "    <tr>\n",
       "      <th>...</th>\n",
       "      <td>...</td>\n",
       "    </tr>\n",
       "    <tr>\n",
       "      <th>39712</th>\n",
       "      <td>36</td>\n",
       "    </tr>\n",
       "    <tr>\n",
       "      <th>39713</th>\n",
       "      <td>36</td>\n",
       "    </tr>\n",
       "    <tr>\n",
       "      <th>39714</th>\n",
       "      <td>36</td>\n",
       "    </tr>\n",
       "    <tr>\n",
       "      <th>39715</th>\n",
       "      <td>36</td>\n",
       "    </tr>\n",
       "    <tr>\n",
       "      <th>39716</th>\n",
       "      <td>36</td>\n",
       "    </tr>\n",
       "  </tbody>\n",
       "</table>\n",
       "<p>39717 rows × 1 columns</p>\n",
       "</div>"
      ],
      "text/plain": [
       "       term\n",
       "0       36 \n",
       "1       60 \n",
       "2       36 \n",
       "3       36 \n",
       "4       60 \n",
       "...     ...\n",
       "39712   36 \n",
       "39713   36 \n",
       "39714   36 \n",
       "39715   36 \n",
       "39716   36 \n",
       "\n",
       "[39717 rows x 1 columns]"
      ]
     },
     "execution_count": 13,
     "metadata": {},
     "output_type": "execute_result"
    }
   ],
   "source": [
    "# Remove the string 'months' from each value in the 'term' column of the df1 DataFrame\n",
    "\n",
    "df['term'] = df['term'].map(lambda x:x.replace('months',''))\n",
    "df[['term']]"
   ]
  },
  {
   "cell_type": "markdown",
   "id": "f80ecff7",
   "metadata": {},
   "source": [
    "####  Create a new column as risky_loan_applicant by comparing loan_amnt and funded_amnt with the following criteria - If loan_amnt is less than equals to funded_amnt set it as ‘0’ else set it as ‘1’."
   ]
  },
  {
   "cell_type": "code",
   "execution_count": 14,
   "id": "f12420d6",
   "metadata": {},
   "outputs": [
    {
     "name": "stdout",
     "output_type": "stream",
     "text": [
      "risky_loan_applicant\n",
      "0                       37868\n",
      "1                        1849\n",
      "dtype: int64\n"
     ]
    }
   ],
   "source": [
    "# Create a new column in the df1 DataFrame to indicate whether the loan applicant is considered \"risky\"\n",
    "# Note: the code uses the np.where() function to create a new column called 'risky_loan_applicant'. If the value in the \n",
    "# 'loan_amnt' column is less than or equal to the value in the 'funded_amnt' column, the value in the 'risky_loan_applicant' \n",
    "# column is set to 0 (i.e., not risky). If the value in the 'loan_amnt' column is greater than the value in the 'funded_amnt' \n",
    "# column, the value in the 'risky_loan_applicant' column is set to 1 (i.e., risky).\n",
    "\n",
    "df['risky_loan_applicant'] = np.where(df['loan_amnt']<=df['funded_amnt'], 0, 1)\n",
    "print(df[['risky_loan_applicant']].value_counts()) #Checking if 'risky_loan_applicant' is according to the need."
   ]
  },
  {
   "cell_type": "markdown",
   "id": "7208e91a",
   "metadata": {},
   "source": [
    "####  Using the bar plot visualize the loan_status column against categorical column grade, term, verification_status."
   ]
  },
  {
   "cell_type": "code",
   "execution_count": 15,
   "id": "3566db71",
   "metadata": {},
   "outputs": [
    {
     "data": {
      "image/png": "[encoded data removed]",
      "text/plain": [
       "<Figure size 720x432 with 1 Axes>"
      ]
     },
     "metadata": {
      "needs_background": "light"
     },
     "output_type": "display_data"
    }
   ],
   "source": [
    "# Use the pd.crosstab() function to create a contingency table of 'loan_status' vs 'grade' in the df1 DataFrame. Then plot the \n",
    "# table as a bar graph using the plot() function.\n",
    "pd.crosstab(df['loan_status'], df['grade']).plot(kind='bar', figsize=(10,6), rot=0)\n",
    "plt.title('Loan Status as per Grades') #Adding a title to bar chart\n",
    "plt.xlabel('Loan Status') #Adding a label to X-axis \n",
    "plt.show() #Show the bar chart"
   ]
  },
  {
   "cell_type": "code",
   "execution_count": 16,
   "id": "d2741511",
   "metadata": {},
   "outputs": [],
   "source": [
    "# from above graph wecan claerly infer that for all three kinds of loans such as Charged  off ,current,fully paid more loans\n",
    "# have B grade and in charged off after grade b it has more loans for grade c also while in Fully paid loans After b grade most\n",
    "# of loans having A grade after that many fully paid loans are also having grade c and their are very few loans having grade G"
   ]
  },
  {
   "cell_type": "code",
   "execution_count": 17,
   "id": "8bb3acd2",
   "metadata": {},
   "outputs": [
    {
     "data": {
      "image/png": "[encoded data removed]",
      "text/plain": [
       "<Figure size 720x432 with 1 Axes>"
      ]
     },
     "metadata": {
      "needs_background": "light"
     },
     "output_type": "display_data"
    }
   ],
   "source": [
    "# Use the pd.crosstab() function to create a contingency table of 'loan_status' vs 'term' in the df1 DataFrame. Then plot the \n",
    "# table as a bar graph using the plot() function.\n",
    "\n",
    "pd.crosstab(df['loan_status'], df['term']).plot(kind='bar', figsize=(10,6), rot=0)\n",
    "plt.title('Loan Status as per Term') #Adding a title to bar chart\n",
    "plt.xlabel('Loan Status') #Adding a label to X-axis\n",
    "plt.show() #Show the bar chart"
   ]
  },
  {
   "cell_type": "code",
   "execution_count": 18,
   "id": "76b59461",
   "metadata": {},
   "outputs": [],
   "source": [
    "# from above graph we can infer  that Fully paid loan status is higher in case of 3 years as compared to loan for 5 years \n",
    "# And Charged off loan is also little bit more than for 3 years as compared to loan for 5 year or 60 months\n",
    "#While for Current loan their is no loan for 3 years their is loan only for 5 years or 60 months"
   ]
  },
  {
   "cell_type": "code",
   "execution_count": 19,
   "id": "47900d70",
   "metadata": {},
   "outputs": [
    {
     "data": {
      "image/png": "[encoded data removed]",
      "text/plain": [
       "<Figure size 720x432 with 1 Axes>"
      ]
     },
     "metadata": {
      "needs_background": "light"
     },
     "output_type": "display_data"
    }
   ],
   "source": [
    "# Use the pd.crosstab() function to create a contingency table of 'loan_status' vs 'verification_status' in the df1 DataFrame. \n",
    "# Then plot the table as a bar graph using the plot() function.\n",
    "\n",
    "pd.crosstab(df['loan_status'], df['verification_status']).plot(kind='bar', figsize=(10,6), rot=0)\n",
    "plt.title('Loan Status as per Verification Status') #Adding a title to bar chart\n",
    "plt.xlabel('Loan Status') #Adding a label to X-axis\n",
    "plt.show() #Show the bar chart"
   ]
  },
  {
   "cell_type": "code",
   "execution_count": 20,
   "id": "1f27ab92",
   "metadata": {},
   "outputs": [],
   "source": [
    "# From above  graph we can infer  that for Fully paid loans more loans are Not verified \n",
    "# And for Charged off loan their are equal proportion of loans which are not verified and verified both and only few are Source verified\n",
    "#While for Current loan all loans are Highly veriied only few are not verified or Source verified"
   ]
  },
  {
   "cell_type": "markdown",
   "id": "d0e23b4c",
   "metadata": {},
   "source": [
    "#### 11.Using a user defined function convert the ‘emp_len’ column into\n",
    "#### Categorical column as follows -\n",
    "##### If emp_len is less than equals to 1 then recode as ‘fresher’.\n",
    "##### If emp_len is greater than 1 and less than 3 then recode as ‘junior’.\n",
    "##### If emp_len is greater than 3 and less than 7 then recode as ‘senior’\n",
    "##### If emp_len is greater than 7 then recode as ‘expert’."
   ]
  },
  {
   "cell_type": "code",
   "execution_count": 21,
   "id": "cdc22546",
   "metadata": {},
   "outputs": [],
   "source": [
    "# Use the str.extract() method to extract the digits from the 'emp_length' column in the df1 DataFrame.\n",
    "# The regular expression (\\d+) matches one or more digits in a row, and extracts these digits from each value in the \n",
    "# 'emp_length' column.\n",
    "\n",
    "df['emp_length'] = df['emp_length'].str.extract('(\\d+)')"
   ]
  },
  {
   "cell_type": "code",
   "execution_count": 22,
   "id": "1c37ad66",
   "metadata": {},
   "outputs": [],
   "source": [
    "# Define a function called 'replace' that takes a parameter called 'df'.\n",
    "\n",
    "def replace(df):\n",
    "    # Convert the parameter to a float.\n",
    "    if float(df)<=1:\n",
    "        # If the float of df is less than or equal to 1, assign the string 'fresher' to the 'df' variable.\n",
    "        df = 'fresher'\n",
    "    elif float(df)>1 and float(df)<3:\n",
    "        # If the float of df is between 1 and 3 (exclusive), assign the string 'junior' to the 'df' variable.\n",
    "        df = 'junior'\n",
    "    elif float(df)>3 and float(df)<7:\n",
    "        # If the float of df is between 3 and 7 (exclusive), assign the string 'senior' to the 'df' variable.\n",
    "        df = 'senior'\n",
    "    else:\n",
    "        # If none of the above conditions are met, assign the string 'expert' to the 'df' variable.\n",
    "        df = 'expert'\n",
    "    # Return the value of 'df'.\n",
    "    return df"
   ]
  },
  {
   "cell_type": "code",
   "execution_count": 23,
   "id": "a09a8da1",
   "metadata": {},
   "outputs": [],
   "source": [
    "df['emp_length']=df['emp_length'].apply(replace) #Applying replace function to 'emp_length' column"
   ]
  },
  {
   "cell_type": "code",
   "execution_count": 24,
   "id": "e4d734f2",
   "metadata": {},
   "outputs": [
    {
     "data": {
      "text/plain": [
       "0         expert\n",
       "1        fresher\n",
       "2         expert\n",
       "3         expert\n",
       "4        fresher\n",
       "          ...   \n",
       "39712     senior\n",
       "39713     expert\n",
       "39714    fresher\n",
       "39715    fresher\n",
       "39716    fresher\n",
       "Name: emp_length, Length: 39717, dtype: object"
      ]
     },
     "execution_count": 24,
     "metadata": {},
     "output_type": "execute_result"
    }
   ],
   "source": [
    "df['emp_length']"
   ]
  },
  {
   "cell_type": "markdown",
   "id": "b069384d",
   "metadata": {},
   "source": [
    "#### Finding the sum of ‘loan_amnt’ for each grade and display the distribution of ‘loan_amnt’ using a pie plot."
   ]
  },
  {
   "cell_type": "code",
   "execution_count": 25,
   "id": "ab97a6e0",
   "metadata": {},
   "outputs": [
    {
     "data": {
      "text/plain": [
       "grade\n",
       "A     86982400\n",
       "B    133651350\n",
       "C     89115825\n",
       "D     65160400\n",
       "E     45037900\n",
       "F     19263100\n",
       "G      6391675\n",
       "Name: loan_amnt, dtype: int64"
      ]
     },
     "execution_count": 25,
     "metadata": {},
     "output_type": "execute_result"
    }
   ],
   "source": [
    "# This code groups the 'loan_amnt' column in the DataFrame 'df1' by the 'grade' column,and then calculates the sum of \n",
    "# 'loan_amnt' for each unique value in the 'grade' column.\n",
    "\n",
    "df['loan_amnt'].groupby(by=df['grade']).sum()  "
   ]
  },
  {
   "cell_type": "code",
   "execution_count": 26,
   "id": "f1914b59",
   "metadata": {},
   "outputs": [
    {
     "data": {
      "image/png": "[encoded data removed]",
      "text/plain": [
       "<Figure size 864x576 with 1 Axes>"
      ]
     },
     "metadata": {},
     "output_type": "display_data"
    }
   ],
   "source": [
    "df.groupby('grade')['loan_amnt'].sum().plot(kind='pie',figsize=(12,8),autopct='%.f%%',shadow=True)\n",
    "plt.title('Loan_amount_as_per_Grades')\n",
    "plt.show()"
   ]
  },
  {
   "cell_type": "markdown",
   "id": "1ba0b628",
   "metadata": {},
   "source": [
    "We can infer from above pie chart that the loan amount for B grade is higher as compared to all other grades while for A and C grade amount for loan is almost same then 15% of loan amount is covered in D grade then !0% for E grade and we can see that For G grade loan amount is very less \n"
   ]
  },
  {
   "cell_type": "markdown",
   "id": "2c1fdf52",
   "metadata": {},
   "source": [
    "# Conclusion"
   ]
  },
  {
   "cell_type": "markdown",
   "id": "825a155c",
   "metadata": {},
   "source": [
    "1. Risky loan column states that nearly 37868 number of loans are risky.\n",
    "\n",
    "2. Most of loans are taken by persons who are working more than 7 years and we named them as a Experts.\n",
    "\n",
    "3. Most of the loans are Fully paid.\n",
    "\n",
    "4. Approximately 29096 people have taken 3-year loans and other than them, About 10621 people have taken loans for 5 years.\n",
    "\n",
    "5. Most people have taken B-grade loans followed by A and C-grade loans.\n"
   ]
  },
  {
   "cell_type": "markdown",
   "id": "823935d5",
   "metadata": {},
   "source": [
    "# Future Steps"
   ]
  },
  {
   "cell_type": "markdown",
   "id": "e68a4f79",
   "metadata": {},
   "source": [
    "1. The loan company should have a well-defined lending policy that outlines the criteria for approving loans and the procedures for verifying information provided by borrowers. The policy should also specify the loan limits and the types of loans that the loan company can grant.\n",
    "\n",
    "2. The loan company should monitor the performance of their borrowers by keeping track of their repayment history, financial statements, and other relevant information. This would help loan company to identify early warning signs of potential default and take appropriate action.\n",
    "\n",
    "3. The loan company should set interest rates that reflect the risk of lending to different types of borrowers. This helps to ensure that borrowers who are more likely to default pay higher interest rates, while those with better credit histories pay lower rates.\n",
    "\n",
    "4. The loan company can mitigate risks by requiring borrowers to provide collateral to secure loans. This collateral can be in    the form of assets such as real estate, inventory, or equipment, which the loan company can seize in the event of default.\n",
    "\n",
    "5. The loan company can mitigate risks by analyzing the creditworthiness of borrowers before granting loans. This analysis should involve reviewing the borrower's credit history, income, debt-to-income ratio, and collateral, if any.\n",
    "\n"
   ]
  }
 ],
 "metadata": {
  "kernelspec": {
   "display_name": "Python 3 (ipykernel)",
   "language": "python",
   "name": "python3"
  },
  "language_info": {
   "codemirror_mode": {
    "name": "ipython",
    "version": 3
   },
   "file_extension": ".py",
   "mimetype": "text/x-python",
   "name": "python",
   "nbconvert_exporter": "python",
   "pygments_lexer": "ipython3",
   "version": "3.9.12"
  }
 },
 "nbformat": 4,
 "nbformat_minor": 5
}
